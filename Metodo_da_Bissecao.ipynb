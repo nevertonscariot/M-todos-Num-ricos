{
  "nbformat": 4,
  "nbformat_minor": 0,
  "metadata": {
    "colab": {
      "name": "Método da Bisseção.ipynb",
      "provenance": [],
      "authorship_tag": "ABX9TyPRkQGB+lnlrxh6cGLxldpm",
      "include_colab_link": true
    },
    "kernelspec": {
      "name": "python3",
      "display_name": "Python 3"
    },
    "language_info": {
      "name": "python"
    }
  },
  "cells": [
    {
      "cell_type": "markdown",
      "metadata": {
        "id": "view-in-github",
        "colab_type": "text"
      },
      "source": [
        "<a href=\"https://colab.research.google.com/github/nevertonscariot/Metodos-Numericos/blob/main/Metodo_da_Bissecao.ipynb\" target=\"_parent\"><img src=\"https://colab.research.google.com/assets/colab-badge.svg\" alt=\"Open In Colab\"/></a>"
      ]
    },
    {
      "cell_type": "markdown",
      "metadata": {
        "id": "HJXfepEtxDvs"
      },
      "source": [
        "## Método da Bisseção\n",
        "\n",
        "Consiste em um método númerico iterativo para resolução de equações do tipo $f(x)=0$, partindo de um intervalo fechado $[a,b]$, que contém uma única raiz. A cada iteração, o intervalo é dividido em dois subintervalos de mesma magnitude e é verificado em qual subintervalo se encontra a raiz atravez do Teorema de Bolzano."
      ]
    },
    {
      "cell_type": "markdown",
      "metadata": {
        "id": "8xsL4zcw1Zw9"
      },
      "source": [
        "## Teorema de Bolzano:\n",
        "Seja $f(x)$ contínua em um intervalo $[a,b]$ e $f(a) \\cdot f(b) < 0$, existe pelo menos uma solução $\\bar{x}$ $\\in$ $[a,b]$ $\\mid$  $f(x)=0$.\n"
      ]
    },
    {
      "cell_type": "code",
      "metadata": {
        "id": "ZJtoEcTs4eJd"
      },
      "source": [
        "from math import log, ceil \n",
        "#log _ Propriedades logaritmicas\n",
        "#ceil _ Arredonda para o numero superior inteiro mais proximo"
      ],
      "execution_count": null,
      "outputs": []
    },
    {
      "cell_type": "markdown",
      "metadata": {
        "id": "ryaKGXSc4mJb"
      },
      "source": [
        "Inserir valores do intervalo $[a, b]$ e precisão $\\epsilon$."
      ]
    },
    {
      "cell_type": "code",
      "metadata": {
        "id": "h6FZmD3RvvZC"
      },
      "source": [
        "a=2\n",
        "b=6\n",
        "eps=0.0001"
      ],
      "execution_count": null,
      "outputs": []
    },
    {
      "cell_type": "markdown",
      "metadata": {
        "id": "BTwVjbVw4viN"
      },
      "source": [
        "Inserir a função $f(x)$."
      ]
    },
    {
      "cell_type": "code",
      "metadata": {
        "id": "NNWvwdqyuNbd"
      },
      "source": [
        "def f(x):\n",
        "  y = x**3-155\n",
        "  return y"
      ],
      "execution_count": null,
      "outputs": []
    },
    {
      "cell_type": "markdown",
      "metadata": {
        "id": "2HTnIiPA4CzN"
      },
      "source": [
        "# Número de iterações\n",
        "\n",
        "O método da Bisseção é o único método iterativo em que se pode estimar o número de iterações necessarias para encontrar uma aproximação da raiz $\\bar{x}$ com a precisão requerida.\n",
        "\n",
        "$ n>\\frac{log(b-a)-log(\\epsilon)}{log2}-1$\n",
        "\n",
        "Onde:\n",
        "\n",
        "$n$ é o número mínimo de iterações que devem ser realizadas para se obter $\\bar{x}$ com precisão $\\epsilon$.\n"
      ]
    },
    {
      "cell_type": "code",
      "metadata": {
        "id": "xlvo2T9muNml"
      },
      "source": [
        "# Verificacao se existe solucao no intervalo [a, b], pelo Teorema de Bolzano\n",
        "if f(a)*f(b)>0:\n",
        "  print (\"Intervalo [a, b] não é valido, nao atende o teorema de Bolzano e nao contem raiz\")\n",
        "else:\n",
        "  n=int(ceil(log(abs(b-a)/eps)/log(2))) #Calcula numero N de iteracoes"
      ],
      "execution_count": null,
      "outputs": []
    },
    {
      "cell_type": "code",
      "metadata": {
        "colab": {
          "base_uri": "https://localhost:8080/"
        },
        "id": "R4uaaN9YuNv-",
        "outputId": "f25e2e90-6f7b-48a0-9779-87f919929dcc"
      },
      "source": [
        "cont=1\n",
        "while cont-1 <n:\n",
        "    pm = (a+b)/2.0\n",
        "    print (\"|N = %i\"%cont ,\"| a = %.7f\"%a,\"| b = %.7f\"%b,\"|f(a) = %.7f\"%f(a),\"| f(b) = %.7f\"%f(b),\"| pm = %.7f\"%pm,\"| f(pm) = %.7f\"%f(pm),)\n",
        "    if f(pm)*f(a) < 0:\n",
        "        b = pm\n",
        "    elif f(pm)*f(b) < 0:\n",
        "        a = pm\n",
        "    else:\n",
        "        print (\"A raiz exata é x=\", pm)\n",
        "        break \n",
        "    cont=cont+1\n",
        "print ()\n",
        "print (\"| pm = %.7f\"%pm,\"| é a solução aproximada\")"
      ],
      "execution_count": null,
      "outputs": [
        {
          "output_type": "stream",
          "text": [
            "|N = 1 | a = 2.0000000 | b = 6.0000000 |f(a) = -147.0000000 | f(b) = 61.0000000 | pm = 4.0000000 | f(pm) = -91.0000000\n",
            "|N = 2 | a = 4.0000000 | b = 6.0000000 |f(a) = -91.0000000 | f(b) = 61.0000000 | pm = 5.0000000 | f(pm) = -30.0000000\n",
            "|N = 3 | a = 5.0000000 | b = 6.0000000 |f(a) = -30.0000000 | f(b) = 61.0000000 | pm = 5.5000000 | f(pm) = 11.3750000\n",
            "|N = 4 | a = 5.0000000 | b = 5.5000000 |f(a) = -30.0000000 | f(b) = 11.3750000 | pm = 5.2500000 | f(pm) = -10.2968750\n",
            "|N = 5 | a = 5.2500000 | b = 5.5000000 |f(a) = -10.2968750 | f(b) = 11.3750000 | pm = 5.3750000 | f(pm) = 0.2871094\n",
            "|N = 6 | a = 5.2500000 | b = 5.3750000 |f(a) = -10.2968750 | f(b) = 0.2871094 | pm = 5.3125000 | f(pm) = -5.0671387\n",
            "|N = 7 | a = 5.3125000 | b = 5.3750000 |f(a) = -5.0671387 | f(b) = 0.2871094 | pm = 5.3437500 | f(pm) = -2.4056702\n",
            "|N = 8 | a = 5.3437500 | b = 5.3750000 |f(a) = -2.4056702 | f(b) = 0.2871094 | pm = 5.3593750 | f(pm) = -1.0632057\n",
            "|N = 9 | a = 5.3593750 | b = 5.3750000 |f(a) = -1.0632057 | f(b) = 0.2871094 | pm = 5.3671875 | f(pm) = -0.3890309\n",
            "|N = 10 | a = 5.3671875 | b = 5.3750000 |f(a) = -0.3890309 | f(b) = 0.2871094 | pm = 5.3710938 | f(pm) = -0.0512066\n",
            "|N = 11 | a = 5.3710938 | b = 5.3750000 |f(a) = -0.0512066 | f(b) = 0.2871094 | pm = 5.3730469 | f(pm) = 0.1178899\n",
            "|N = 12 | a = 5.3710938 | b = 5.3730469 |f(a) = -0.0512066 | f(b) = 0.1178899 | pm = 5.3720703 | f(pm) = 0.0333262\n",
            "|N = 13 | a = 5.3710938 | b = 5.3720703 |f(a) = -0.0512066 | f(b) = 0.0333262 | pm = 5.3715820 | f(pm) = -0.0089440\n",
            "|N = 14 | a = 5.3715820 | b = 5.3720703 |f(a) = -0.0089440 | f(b) = 0.0333262 | pm = 5.3718262 | f(pm) = 0.0121901\n",
            "|N = 15 | a = 5.3715820 | b = 5.3718262 |f(a) = -0.0089440 | f(b) = 0.0121901 | pm = 5.3717041 | f(pm) = 0.0016228\n",
            "|N = 16 | a = 5.3715820 | b = 5.3717041 |f(a) = -0.0089440 | f(b) = 0.0016228 | pm = 5.3716431 | f(pm) = -0.0036607\n",
            "\n",
            "| pm = 5.3716431 | é a solução aproximada\n"
          ],
          "name": "stdout"
        }
      ]
    }
  ]
}